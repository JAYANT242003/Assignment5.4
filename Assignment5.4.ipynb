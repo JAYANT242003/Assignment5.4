{
 "cells": [
  {
   "cell_type": "code",
   "execution_count": null,
   "id": "2a29287b-feff-4e6f-8449-0e418d0b981a",
   "metadata": {},
   "outputs": [],
   "source": [
    "Q1."
   ]
  },
  {
   "cell_type": "code",
   "execution_count": null,
   "id": "44ce8758-bf92-46e6-9432-f6700702ef8e",
   "metadata": {},
   "outputs": [],
   "source": [
    "Multiprocessing in Python refers to the concurrent execution of multiple processes, each with its own Python interpreter and memory space. Unlike multithreading, multiprocessing enables true parallelism by allowing processes to run independently and take advantage of multiple CPU cores"
   ]
  },
  {
   "cell_type": "code",
   "execution_count": null,
   "id": "12b6cc8d-8648-40a2-84a7-37dfd8ec3cff",
   "metadata": {},
   "outputs": [],
   "source": [
    "Multiprocessing enables the parallel execution of tasks, making it particularly useful for CPU-bound operations where computation is the primary bottleneck."
   ]
  },
  {
   "cell_type": "code",
   "execution_count": null,
   "id": "65b373a0-2492-48a7-8e2b-acfecced3e8c",
   "metadata": {},
   "outputs": [],
   "source": []
  },
  {
   "cell_type": "code",
   "execution_count": null,
   "id": "f8a01464-e7f7-426c-9596-c35545e7e94a",
   "metadata": {},
   "outputs": [],
   "source": []
  },
  {
   "cell_type": "code",
   "execution_count": null,
   "id": "400cf7dd-6dce-4184-8e3c-35ee5e75faf0",
   "metadata": {},
   "outputs": [],
   "source": [
    "Q2."
   ]
  },
  {
   "cell_type": "code",
   "execution_count": null,
   "id": "70bc993e-60c5-40c3-94ff-80815cce2cf5",
   "metadata": {},
   "outputs": [],
   "source": [
    "Multiprocessing: In multiprocessing, multiple processes are created, each with its own memory space and Python interpreter. Processes run independently of each other, communicating through inter-process communication mechanisms."
   ]
  },
  {
   "cell_type": "code",
   "execution_count": null,
   "id": "a14e61ae-d500-44e7-9e5a-b173e3736989",
   "metadata": {},
   "outputs": [],
   "source": [
    "Multithreading: In multithreading, multiple threads share the same memory space and Python interpreter within a single process. Threads run concurrently and share data, but they need to coordinate to avoid race conditions."
   ]
  },
  {
   "cell_type": "code",
   "execution_count": null,
   "id": "c8c01937-cf62-49f2-a233-b0554f56a4f7",
   "metadata": {},
   "outputs": [],
   "source": []
  },
  {
   "cell_type": "code",
   "execution_count": null,
   "id": "ed2a9240-e76e-408d-b25e-1a3dcacbd4f6",
   "metadata": {},
   "outputs": [],
   "source": []
  },
  {
   "cell_type": "code",
   "execution_count": null,
   "id": "260284c9-77c2-4a4d-851f-4bcb460548ea",
   "metadata": {},
   "outputs": [],
   "source": [
    "Q3."
   ]
  },
  {
   "cell_type": "code",
   "execution_count": 1,
   "id": "7d1a7401-8c25-48d0-8608-1353843477c2",
   "metadata": {},
   "outputs": [
    {
     "name": "stdout",
     "output_type": "stream",
     "text": [
      "main program\n",
      "multiprpcessing example\n"
     ]
    }
   ],
   "source": [
    "import multiprocessing\n",
    "def new():\n",
    "    print(\"multiprpcessing example\")\n",
    "\n",
    "if __name__ == '__main__':\n",
    "    m = multiprocessing.Process(target=new)\n",
    "    print(\"main program\")\n",
    "    m.start()\n",
    "    m.join()\n",
    "\n",
    "    "
   ]
  },
  {
   "cell_type": "code",
   "execution_count": null,
   "id": "42ab5f8c-bc1f-448a-bbb4-88c4e564cab2",
   "metadata": {},
   "outputs": [],
   "source": []
  },
  {
   "cell_type": "code",
   "execution_count": null,
   "id": "30e93208-22fa-4dcf-8ae5-875a631c81aa",
   "metadata": {},
   "outputs": [],
   "source": []
  },
  {
   "cell_type": "code",
   "execution_count": null,
   "id": "9f90c42a-9406-418a-9cf2-022b2b542fd1",
   "metadata": {},
   "outputs": [],
   "source": [
    "Q4."
   ]
  },
  {
   "cell_type": "code",
   "execution_count": null,
   "id": "9d89991f-e6f5-4d22-b6c9-aa7be41ce73b",
   "metadata": {},
   "outputs": [],
   "source": [
    "A multiprocessing pool in Python, specifically the multiprocessing.Pool class, provides a convenient way to parallelize the execution of a function across multiple input values or tasks"
   ]
  },
  {
   "cell_type": "code",
   "execution_count": null,
   "id": "c8a385a9-c640-4594-a746-754339759718",
   "metadata": {},
   "outputs": [],
   "source": [
    "Its allows us to distribute the workload among multiple processes, taking advantage of the parallel processing capabilities of multi-core systems. The Pool class is part of the multiprocessing module."
   ]
  },
  {
   "cell_type": "code",
   "execution_count": null,
   "id": "f2324bac-9e24-4c4a-a8a7-7bb2cd721318",
   "metadata": {},
   "outputs": [],
   "source": []
  },
  {
   "cell_type": "code",
   "execution_count": null,
   "id": "045b98d2-a652-4ad9-8024-10144a421803",
   "metadata": {},
   "outputs": [],
   "source": []
  },
  {
   "cell_type": "code",
   "execution_count": null,
   "id": "4e307438-e13d-47f5-9e72-94066c0e742b",
   "metadata": {},
   "outputs": [],
   "source": [
    "Q5."
   ]
  },
  {
   "cell_type": "code",
   "execution_count": 4,
   "id": "4b85f13c-e291-4a0f-b2a4-1e85829fe82a",
   "metadata": {},
   "outputs": [
    {
     "name": "stdout",
     "output_type": "stream",
     "text": [
      "[1, 8, 27, 64, 125, 216, 343, 512, 729]\n"
     ]
    }
   ],
   "source": [
    "import multiprocessing\n",
    "def cube(n):\n",
    "    return n**3\n",
    "\n",
    "if __name__ =='__main__':\n",
    "    with multiprocessing.Pool(processes=3) as pool:\n",
    "        out = pool.map(cube , [1,2,3,4,5,6,7,8,9])\n",
    "        print(out)"
   ]
  },
  {
   "cell_type": "code",
   "execution_count": null,
   "id": "895eff60-036f-45be-87e9-4a924ab22cad",
   "metadata": {},
   "outputs": [],
   "source": []
  },
  {
   "cell_type": "code",
   "execution_count": null,
   "id": "d73486ff-4f6e-4f4d-81aa-f44cc6c5f713",
   "metadata": {},
   "outputs": [],
   "source": []
  },
  {
   "cell_type": "code",
   "execution_count": null,
   "id": "a31ea7c2-2266-4d88-932d-8b68efadc2ca",
   "metadata": {},
   "outputs": [],
   "source": [
    "Q6."
   ]
  },
  {
   "cell_type": "code",
   "execution_count": 12,
   "id": "524c2554-330c-463f-9b1f-9a84aefb93d5",
   "metadata": {},
   "outputs": [
    {
     "ename": "NameError",
     "evalue": "name 'num' is not defined",
     "output_type": "error",
     "traceback": [
      "\u001b[0;31m---------------------------------------------------------------------------\u001b[0m",
      "\u001b[0;31mNameError\u001b[0m                                 Traceback (most recent call last)",
      "Cell \u001b[0;32mIn[12], line 8\u001b[0m\n\u001b[1;32m      6\u001b[0m \u001b[38;5;28;01mif\u001b[39;00m \u001b[38;5;18m__name__\u001b[39m \u001b[38;5;241m==\u001b[39m\u001b[38;5;124m'\u001b[39m\u001b[38;5;124m__main__\u001b[39m\u001b[38;5;124m'\u001b[39m:\n\u001b[1;32m      7\u001b[0m     \u001b[38;5;28;01mwith\u001b[39;00m multiprocessing\u001b[38;5;241m.\u001b[39mPool(processes\u001b[38;5;241m=\u001b[39m\u001b[38;5;241m4\u001b[39m) \u001b[38;5;28;01mas\u001b[39;00m pool:\n\u001b[0;32m----> 8\u001b[0m         pool\u001b[38;5;241m.\u001b[39mmap(diffrent_process, \u001b[43mnum\u001b[49m)\n",
      "\u001b[0;31mNameError\u001b[0m: name 'num' is not defined"
     ]
    }
   ],
   "source": [
    "import multiprocessing\n",
    "def diffrent_process(numbers):\n",
    "    numbers = [1,2,3,4]\n",
    "    print(\"process\",num)\n",
    "    \n",
    "if __name__ =='__main__':\n",
    "    with multiprocessing.Pool(processes=4) as pool:\n",
    "        pool.map(diffrent_process, num)\n",
    "        "
   ]
  },
  {
   "cell_type": "code",
   "execution_count": null,
   "id": "3e718c8d-7d37-40c4-8e89-cadb6daa370d",
   "metadata": {},
   "outputs": [],
   "source": []
  },
  {
   "cell_type": "code",
   "execution_count": null,
   "id": "7418f98f-9a5a-434c-94e2-ea83a1e3d16d",
   "metadata": {},
   "outputs": [],
   "source": []
  },
  {
   "cell_type": "code",
   "execution_count": null,
   "id": "15cf1ee0-30d8-45d9-8fcc-5eab3ccce940",
   "metadata": {},
   "outputs": [],
   "source": []
  },
  {
   "cell_type": "code",
   "execution_count": null,
   "id": "5474a2fd-b1f7-47e3-b21e-c38d9d2d3296",
   "metadata": {},
   "outputs": [],
   "source": []
  },
  {
   "cell_type": "code",
   "execution_count": null,
   "id": "d86606a9-091e-477e-84d5-acaec2a40866",
   "metadata": {},
   "outputs": [],
   "source": []
  }
 ],
 "metadata": {
  "kernelspec": {
   "display_name": "Python 3 (ipykernel)",
   "language": "python",
   "name": "python3"
  },
  "language_info": {
   "codemirror_mode": {
    "name": "ipython",
    "version": 3
   },
   "file_extension": ".py",
   "mimetype": "text/x-python",
   "name": "python",
   "nbconvert_exporter": "python",
   "pygments_lexer": "ipython3",
   "version": "3.10.8"
  }
 },
 "nbformat": 4,
 "nbformat_minor": 5
}
